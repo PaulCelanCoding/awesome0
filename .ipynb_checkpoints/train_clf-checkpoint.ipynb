{
 "cells": [
  {
   "cell_type": "code",
   "execution_count": null,
   "id": "598366e3-e639-46b2-80f7-8862b312077b",
   "metadata": {},
   "outputs": [],
   "source": [
    "def preprocess_data_linear_features(data, feature_prefix, target_column, test_ratio=0.25, imputer_strategy=\"median\"):\n",
    "    \"\"\"\n",
    "    Preprocesses the data, including imputation and splitting, without polynomial feature augmentation.\n",
    "    \n",
    "    Parameters:\n",
    "    - data: The entire dataset.\n",
    "    - feature_prefix: Prefix for feature columns.\n",
    "    - target_column: Name of the target column.\n",
    "    - test_ratio: Ratio for test set splitting.\n",
    "    - imputer_strategy: Strategy to use for imputation ('mean', 'median', etc.)\n",
    "    \n",
    "    Returns:\n",
    "    - X_train, y_train: Training data and labels\n",
    "    - X_test, y_test: Test data and labels\n",
    "    \"\"\"\n",
    "    \n",
    "    # Extract features and target variable\n",
    "    feature_cols = [col for col in data.columns if feature_prefix in col]\n",
    "    X = data[feature_cols]\n",
    "    y = data[target_column].astype(bool)\n",
    "\n",
    "    # Impute missing values\n",
    "    imputer = SimpleImputer(strategy=imputer_strategy)\n",
    "    X_imputed = imputer.fit_transform(X)\n",
    "\n",
    "    # Split the data into training and test sets\n",
    "    train_size = int((1 - test_ratio) * len(data))\n",
    "    X_train, X_test = X_imputed[:train_size], X_imputed[train_size:]\n",
    "    y_train, y_test = y.iloc[:train_size], y.iloc[train_size:]\n",
    "\n",
    "    return X_train, y_train, X_test, y_test\n",
    "\n",
    "# Preprocess the data with imputation without polynomial feature augmentation\n",
    "X_train_linear, y_train, X_test_linear, y_test = preprocess_data_linear_features(data, \"Feature\", \"label\", test_ratio=0.25)\n",
    "\n",
    "# Train and evaluate the SVM classifier using only linear features\n",
    "accuracy_linear, report_linear, conf_matrix_linear = train_and_evaluate_classifier(\n",
    "    X_train_linear, y_train, X_test_linear, y_test, SVC())\n",
    "\n",
    "accuracy_linear, report_linear, conf_matrix_linear\n"
   ]
  }
 ],
 "metadata": {
  "kernelspec": {
   "display_name": "Python 3",
   "language": "python",
   "name": "python3"
  },
  "language_info": {
   "codemirror_mode": {
    "name": "ipython",
    "version": 3
   },
   "file_extension": ".py",
   "mimetype": "text/x-python",
   "name": "python",
   "nbconvert_exporter": "python",
   "pygments_lexer": "ipython3",
   "version": "3.9.2"
  }
 },
 "nbformat": 4,
 "nbformat_minor": 5
}
