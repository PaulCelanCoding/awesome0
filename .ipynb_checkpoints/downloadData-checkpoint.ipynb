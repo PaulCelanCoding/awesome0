{
 "cells": [
  {
   "cell_type": "code",
   "execution_count": null,
   "id": "7ee18328-8458-4049-b274-a044c846a896",
   "metadata": {},
   "outputs": [],
   "source": [
    "import requests\n",
    "import datetime\n",
    "import pandas as pd\n",
    "\n",
    "def fetch_binance_data(symbol='ETHUSDT', timeframe='1h', timerange=4320):  # 4320 hours = 180 days\n",
    "    def fetch_data_from_binance(start_time):\n",
    "        endpoint = \"https://fapi.binance.com/fapi/v1/klines\"\n",
    "        params = {\n",
    "            'symbol': symbol,\n",
    "            'interval': timeframe,\n",
    "            'startTime': start_time\n",
    "        }\n",
    "\n",
    "        response = requests.get(endpoint, params=params)\n",
    "        return response.json()\n",
    "\n",
    "    def adjust_dataframe(df):\n",
    "        # Convert 'Open time' and 'Close time' to datetime format\n",
    "        df['Open_time'] = pd.to_datetime(df['Open time'], unit='ms')\n",
    "        df['Close_time'] = pd.to_datetime(df['Close time'], unit='ms')\n",
    "        \n",
    "        # Convert 'Open_time' and 'Close_time' to string format\n",
    "        df['Open_time'] = df['Open_time'].dt.strftime('%Y-%m-%d %H:%M:%S')\n",
    "        df['Close_time'] = df['Close_time'].dt.strftime('%Y-%m-%d %H:%M:%S')\n",
    "        \n",
    "        # Sort dataframe by 'Open_time'\n",
    "        df.sort_values(by='Open_time', inplace=True, ascending=True)\n",
    "        \n",
    "        return df\n",
    "\n",
    "    # Calculate timestamp for the desired time range ago\n",
    "    time_range_ago = datetime.datetime.now() - datetime.timedelta(hours=timerange)\n",
    "    timestamp_time_range_ago = int(time_range_ago.timestamp() * 1000)  # Convert to milliseconds\n",
    "    \n",
    "    # Initial data fetch\n",
    "    data = fetch_data_from_binance(timestamp_time_range_ago)\n",
    "    \n",
    "    # Continuously fetch data until the current date is reached\n",
    "    while True:\n",
    "        last_timestamp = data[-1][0]\n",
    "        current_timestamp = int(datetime.datetime.now().timestamp() * 1000)\n",
    "        \n",
    "        # Break if the last timestamp is within the last hour\n",
    "        if current_timestamp - last_timestamp <= 60*60*1000:\n",
    "            break\n",
    "        \n",
    "        new_data = fetch_data_from_binance(last_timestamp + 60*60*1000)\n",
    "        data += new_data\n",
    "    \n",
    "    # Convert to DataFrame\n",
    "    df = pd.DataFrame(data, columns=['Open time', 'Open', 'High', 'Low', 'Close', 'Volume', 'Close time', 'Quote asset volume', 'Number of trades', 'Taker buy base asset volume', 'Taker buy quote asset volume', 'Ignore'])\n",
    "    \n",
    "    # Adjust dataframe to match the desired format\n",
    "    df = adjust_dataframe(df)\n",
    "    \n",
    "    return df\n",
    "\n",
    "# To run the function:\n",
    "# eth_dataframe = fetch_binance_data(symbol='ETHUSDT', timeframe='1h', timerange=4320)\n",
    "# print(eth_dataframe.head())\n",
    "# print(eth_dataframe.tail())\n",
    "fetch_binance_data()"
   ]
  },
  {
   "cell_type": "code",
   "execution_count": null,
   "id": "a0b76a01-e5e3-4e02-be44-acdf222d26f0",
   "metadata": {},
   "outputs": [],
   "source": [
    "eth_dataframe"
   ]
  },
  {
   "cell_type": "code",
   "execution_count": 15,
   "id": "0bcdc532-4383-4033-8b73-183f53cb6abb",
   "metadata": {},
   "outputs": [
    {
     "data": {
      "text/plain": [
       "[]"
      ]
     },
     "execution_count": 15,
     "metadata": {},
     "output_type": "execute_result"
    }
   ],
   "source": [
    "link_elements"
   ]
  },
  {
   "cell_type": "code",
   "execution_count": 8,
   "id": "60009f0c-4643-47f8-b050-390d40df4985",
   "metadata": {},
   "outputs": [
    {
     "name": "stdout",
     "output_type": "stream",
     "text": [
      "Collecting lxml\n",
      "  Downloading lxml-4.9.3-cp39-cp39-win_amd64.whl (3.9 MB)\n",
      "Installing collected packages: lxml\n",
      "Successfully installed lxml-4.9.3\n"
     ]
    }
   ],
   "source": [
    "!pip install lxml\n"
   ]
  },
  {
   "cell_type": "code",
   "execution_count": null,
   "id": "9fc2e47d-1b69-4d36-8ce2-0330e1761076",
   "metadata": {},
   "outputs": [],
   "source": []
  }
 ],
 "metadata": {
  "kernelspec": {
   "display_name": "Python 3",
   "language": "python",
   "name": "python3"
  },
  "language_info": {
   "codemirror_mode": {
    "name": "ipython",
    "version": 3
   },
   "file_extension": ".py",
   "mimetype": "text/x-python",
   "name": "python",
   "nbconvert_exporter": "python",
   "pygments_lexer": "ipython3",
   "version": "3.9.2"
  }
 },
 "nbformat": 4,
 "nbformat_minor": 5
}
