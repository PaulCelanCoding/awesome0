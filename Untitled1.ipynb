{
 "cells": [
  {
   "cell_type": "code",
   "execution_count": 2,
   "id": "4b4bf5cc-03f8-4ad2-b9d8-e5738591a161",
   "metadata": {},
   "outputs": [
    {
     "data": {
      "text/plain": [
       "Index(['Unnamed: 0', 'Open_time', 'Open', 'High', 'Low', 'Close', 'Volume',\n",
       "       'Close_time', 'Quote_asset_volume', 'Number_of_trades',\n",
       "       'Taker_buy_base_asset_volume', 'Taker_buy_quote_asset_volume',\n",
       "       'Ignore'],\n",
       "      dtype='object')"
      ]
     },
     "execution_count": 2,
     "metadata": {},
     "output_type": "execute_result"
    }
   ],
   "source": [
    "import pandas as pd\n",
    "\n",
    "pd.read_csv(\"eth1h.csv\").columns"
   ]
  },
  {
   "cell_type": "code",
   "execution_count": 5,
   "id": "25299b0e-2604-4ebe-8876-4b3c5f7246d9",
   "metadata": {},
   "outputs": [],
   "source": [
    "import pandas as pd\n",
    "import pyarrow.feather as feather\n",
    "\n",
    "# Lade den DataFrame aus der Feather-Datei\n",
    "df = feather.read_feather(r\"C:\\Users\\xyz\\Desktop\\bodi2\\freqtrade\\user_data\\data\\binance\\EGLD_USDT-1d.feather\")\n",
    "\n",
    "df.to_csv(\"test.csv\")"
   ]
  },
  {
   "cell_type": "code",
   "execution_count": 3,
   "id": "a0a960f3-6cda-4b34-93fc-8827f7b9e2e5",
   "metadata": {},
   "outputs": [
    {
     "name": "stdout",
     "output_type": "stream",
     "text": [
      "Requirement already satisfied: pyarrow in c:\\users\\xyz\\anaconda3\\envs\\basic\\lib\\site-packages (12.0.1)\n",
      "Requirement already satisfied: numpy>=1.16.6 in c:\\users\\xyz\\anaconda3\\envs\\basic\\lib\\site-packages (from pyarrow) (1.25.2)\n"
     ]
    }
   ],
   "source": [
    "!pip install pyarrow"
   ]
  },
  {
   "cell_type": "code",
   "execution_count": null,
   "id": "21200079-3f83-458d-9bbe-ac699faafba6",
   "metadata": {},
   "outputs": [],
   "source": []
  }
 ],
 "metadata": {
  "kernelspec": {
   "display_name": "Python 3",
   "language": "python",
   "name": "python3"
  },
  "language_info": {
   "codemirror_mode": {
    "name": "ipython",
    "version": 3
   },
   "file_extension": ".py",
   "mimetype": "text/x-python",
   "name": "python",
   "nbconvert_exporter": "python",
   "pygments_lexer": "ipython3",
   "version": "3.9.2"
  }
 },
 "nbformat": 4,
 "nbformat_minor": 5
}
