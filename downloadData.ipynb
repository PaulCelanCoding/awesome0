{
 "cells": [
  {
   "cell_type": "code",
   "execution_count": 27,
   "id": "7ee18328-8458-4049-b274-a044c846a896",
   "metadata": {},
   "outputs": [
    {
     "name": "stdout",
     "output_type": "stream",
     "text": [
      "       Open time     Open     High      Low    Close      Volume  \\\n",
      "0  1676984400000  1676.75  1678.12  1662.00  1669.87  183879.435   \n",
      "1  1676988000000  1669.88  1684.93  1668.00  1674.47  287928.579   \n",
      "2  1676991600000  1674.47  1677.39  1656.50  1671.83  327047.798   \n",
      "3  1676995200000  1671.83  1674.11  1655.00  1661.63  298489.158   \n",
      "4  1676998800000  1661.62  1677.63  1661.07  1677.17  143808.598   \n",
      "\n",
      "      Close time Quote asset volume  Number of trades  \\\n",
      "0  1676987999999    307503529.00145            115761   \n",
      "1  1676991599999    482852819.14132            179930   \n",
      "2  1676995199999    545527559.84943            205255   \n",
      "3  1676998799999    496775461.25071            173259   \n",
      "4  1677002399999    239855724.49207            103208   \n",
      "\n",
      "  Taker buy base asset volume Taker buy quote asset volume Ignore  \\\n",
      "0                   84369.491              141113612.32130      0   \n",
      "1                  151763.602              254514582.05840      0   \n",
      "2                  156739.585              261455924.36731      0   \n",
      "3                  132042.199              219775148.01137      0   \n",
      "4                   77953.952              130011103.77627      0   \n",
      "\n",
      "             Open_time           Close_time  \n",
      "0  2023-02-21 13:00:00  2023-02-21 13:59:59  \n",
      "1  2023-02-21 14:00:00  2023-02-21 14:59:59  \n",
      "2  2023-02-21 15:00:00  2023-02-21 15:59:59  \n",
      "3  2023-02-21 16:00:00  2023-02-21 16:59:59  \n",
      "4  2023-02-21 17:00:00  2023-02-21 17:59:59  \n",
      "          Open time     Open     High      Low    Close     Volume  \\\n",
      "4314  1692514800000  1662.32  1665.50  1661.95  1664.99  21764.488   \n",
      "4315  1692518400000  1665.00  1668.87  1662.56  1668.29  43936.229   \n",
      "4316  1692522000000  1668.29  1669.90  1666.04  1669.70  25778.054   \n",
      "4317  1692525600000  1669.70  1672.00  1668.43  1671.54  44918.421   \n",
      "4318  1692529200000  1671.54  1673.28  1671.34  1673.04   6816.816   \n",
      "\n",
      "         Close time Quote asset volume  Number of trades  \\\n",
      "4314  1692518399999     36211342.43709             23596   \n",
      "4315  1692521999999     73199341.89239             39489   \n",
      "4316  1692525599999     42998220.99230             26849   \n",
      "4317  1692529199999     75023627.91404             38179   \n",
      "4318  1692532799999     11400434.04172              5913   \n",
      "\n",
      "     Taker buy base asset volume Taker buy quote asset volume Ignore  \\\n",
      "4314                   11340.979               18868413.27226      0   \n",
      "4315                   22373.452               37277915.68700      0   \n",
      "4316                   14255.705               23780291.98732      0   \n",
      "4317                   24520.356               40953057.10990      0   \n",
      "4318                    4222.029                7060868.45159      0   \n",
      "\n",
      "                Open_time           Close_time  \n",
      "4314  2023-08-20 07:00:00  2023-08-20 07:59:59  \n",
      "4315  2023-08-20 08:00:00  2023-08-20 08:59:59  \n",
      "4316  2023-08-20 09:00:00  2023-08-20 09:59:59  \n",
      "4317  2023-08-20 10:00:00  2023-08-20 10:59:59  \n",
      "4318  2023-08-20 11:00:00  2023-08-20 11:59:59  \n"
     ]
    }
   ],
   "source": [
    "import requests\n",
    "import datetime\n",
    "import pandas as pd\n",
    "import time\n",
    "\n",
    "def fetch_binance_data(symbol='ETHUSDT', timeframe='1h', timerange=4320, max_retries=5, wait_time=10):  # 4320 hours = 180 days\n",
    "    def fetch_data_from_binance(start_time):\n",
    "        retries = 0\n",
    "        while retries < max_retries:\n",
    "            try:\n",
    "                endpoint = \"https://fapi.binance.com/fapi/v1/klines\"\n",
    "                params = {\n",
    "                    'symbol': symbol,\n",
    "                    'interval': timeframe,\n",
    "                    'startTime': start_time\n",
    "                }\n",
    "\n",
    "                response = requests.get(endpoint, params=params)\n",
    "                response.raise_for_status()  # Raise an error for bad responses\n",
    "                return response.json()\n",
    "            \n",
    "            except requests.RequestException as e:\n",
    "                print(f\"Error fetching data: {e}. Retrying in {wait_time} seconds...\")\n",
    "                retries += 1\n",
    "                time.sleep(wait_time)\n",
    "        raise ValueError(f\"Failed to fetch data after {max_retries} retries.\")\n",
    "        \n",
    "    def adjust_dataframe(df):\n",
    "        # Convert 'Open time' and 'Close time' to datetime format\n",
    "        df['Open_time'] = pd.to_datetime(df['Open time'], unit='ms')\n",
    "        df['Close_time'] = pd.to_datetime(df['Close time'], unit='ms')\n",
    "        \n",
    "        # Convert 'Open_time' and 'Close_time' to string format\n",
    "        df['Open_time'] = df['Open_time'].dt.strftime('%Y-%m-%d %H:%M:%S')\n",
    "        df['Close_time'] = df['Close_time'].dt.strftime('%Y-%m-%d %H:%M:%S')\n",
    "        \n",
    "        # Sort dataframe by 'Open_time'\n",
    "        df.sort_values(by='Open_time', inplace=True, ascending=True)\n",
    "        \n",
    "        return df\n",
    "\n",
    "    # Calculate timestamp for the desired time range ago\n",
    "    time_range_ago = datetime.datetime.now() - datetime.timedelta(hours=timerange)\n",
    "    timestamp_time_range_ago = int(time_range_ago.timestamp() * 1000)  # Convert to milliseconds\n",
    "    \n",
    "    # Initial data fetch\n",
    "    data = fetch_data_from_binance(timestamp_time_range_ago)\n",
    "    \n",
    "    # Continuously fetch data until the current date is reached\n",
    "    while True:\n",
    "        last_timestamp = data[-1][0]\n",
    "        current_timestamp = int(datetime.datetime.now().timestamp() * 1000)\n",
    "        \n",
    "        # Break if the last timestamp is within the last hour\n",
    "        if current_timestamp - last_timestamp <= 60*60*1000:\n",
    "            break\n",
    "        \n",
    "        new_data = fetch_data_from_binance(last_timestamp + 60*60*1000)\n",
    "        data += new_data\n",
    "    \n",
    "    # Convert to DataFrame\n",
    "    df = pd.DataFrame(data, columns=['Open time', 'Open', 'High', 'Low', 'Close', 'Volume', 'Close time', 'Quote asset volume', 'Number of trades', 'Taker buy base asset volume', 'Taker buy quote asset volume', 'Ignore'])\n",
    "    \n",
    "    # Adjust dataframe to match the desired format\n",
    "    df = adjust_dataframe(df)\n",
    "    \n",
    "    return df\n",
    "\n",
    "# To run the function:\n",
    "eth_dataframe = fetch_binance_data(symbol='ETHUSDT', timeframe='1h', timerange=4320)\n",
    "print(eth_dataframe.head())\n",
    "print(eth_dataframe.tail())\n"
   ]
  },
  {
   "cell_type": "code",
   "execution_count": null,
   "id": "a0b76a01-e5e3-4e02-be44-acdf222d26f0",
   "metadata": {},
   "outputs": [],
   "source": [
    "eth_dataframe"
   ]
  },
  {
   "cell_type": "code",
   "execution_count": 15,
   "id": "0bcdc532-4383-4033-8b73-183f53cb6abb",
   "metadata": {},
   "outputs": [
    {
     "data": {
      "text/plain": [
       "[]"
      ]
     },
     "execution_count": 15,
     "metadata": {},
     "output_type": "execute_result"
    }
   ],
   "source": [
    "link_elements"
   ]
  },
  {
   "cell_type": "code",
   "execution_count": 8,
   "id": "60009f0c-4643-47f8-b050-390d40df4985",
   "metadata": {},
   "outputs": [
    {
     "name": "stdout",
     "output_type": "stream",
     "text": [
      "Collecting lxml\n",
      "  Downloading lxml-4.9.3-cp39-cp39-win_amd64.whl (3.9 MB)\n",
      "Installing collected packages: lxml\n",
      "Successfully installed lxml-4.9.3\n"
     ]
    }
   ],
   "source": [
    "!pip install lxml\n"
   ]
  },
  {
   "cell_type": "code",
   "execution_count": null,
   "id": "9fc2e47d-1b69-4d36-8ce2-0330e1761076",
   "metadata": {},
   "outputs": [],
   "source": []
  }
 ],
 "metadata": {
  "kernelspec": {
   "display_name": "Python 3",
   "language": "python",
   "name": "python3"
  },
  "language_info": {
   "codemirror_mode": {
    "name": "ipython",
    "version": 3
   },
   "file_extension": ".py",
   "mimetype": "text/x-python",
   "name": "python",
   "nbconvert_exporter": "python",
   "pygments_lexer": "ipython3",
   "version": "3.9.2"
  }
 },
 "nbformat": 4,
 "nbformat_minor": 5
}
